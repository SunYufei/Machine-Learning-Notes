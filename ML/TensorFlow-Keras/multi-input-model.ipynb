{
 "cells": [
  {
   "cell_type": "markdown",
   "metadata": {
    "collapsed": true,
    "pycharm": {
     "name": "#%% md\n"
    }
   },
   "source": [
    "# Multi-Input Model\n",
    "\n",
    "多输入模型与对应的 Sequence 类示例\n",
    "\n",
    "以两个 VGG16 模型融合为例"
   ]
  },
  {
   "cell_type": "code",
   "source": [
    "from keras import Input, Model\n",
    "from keras.applications import VGG16\n",
    "from keras.layers import Add, Dense\n",
    "\n",
    "epochs = 100\n",
    "num_classes = 256\n",
    "\n",
    "input1 = Input((224, 224, 3), name='input')\n",
    "x1 = VGG16(input_tensor=input1, classes=num_classes)\n",
    "\n",
    "input2 = Input((224, 224, 3), name='input')\n",
    "x2 = VGG16(input_tensor=input2, classes=num_classes)\n",
    "\n",
    "# must rename layer name when use same model in keras.applications\n",
    "for layer in x2.layers:\n",
    "    layer.name = layer.name + \"_2\"\n",
    "\n",
    "x = Add()([x1, x2])\n",
    "x = Dense(num_classes, activation='softmax')(x)\n",
    "\n",
    "model = Model(inputs=[input1, input2], outputs=x)\n",
    "model.summary()\n",
    "model.compile()"
   ],
   "metadata": {
    "collapsed": false,
    "pycharm": {
     "name": "#%%\n"
    }
   },
   "execution_count": null,
   "outputs": []
  },
  {
   "cell_type": "markdown",
   "source": [
    "相应的，使用 `fit_generator` 时需要自定义 `Sequence` 类，并在获取每个 `batch` 时，返回多个输入"
   ],
   "metadata": {
    "collapsed": false,
    "pycharm": {
     "name": "#%% md\n"
    }
   }
  },
  {
   "cell_type": "code",
   "execution_count": null,
   "outputs": [],
   "source": [
    "import numpy as np\n",
    "from tensorflow.python.keras.utils.data_utils import Sequence\n",
    "\n",
    "\n",
    "class DataLoader(Sequence):\n",
    "    def __init__(self):\n",
    "        # blablabla...\n",
    "        pass\n",
    "\n",
    "    def __len__(self):\n",
    "        # blablabla...\n",
    "        pass\n",
    "\n",
    "    def __getitem__(self, item):\n",
    "        return {'input': np.zeros(()), 'input_2': np.zeros(())}, np.zeros(())"
   ],
   "metadata": {
    "collapsed": false,
    "pycharm": {
     "name": "#%%\n"
    }
   }
  },
  {
   "cell_type": "code",
   "execution_count": null,
   "outputs": [],
   "source": [
    "train = DataLoader()\n",
    "test = DataLoader()\n",
    "\n",
    "model.fit_generator(train, epochs=epochs, shuffle=True)\n",
    "model.evaluate_generator(test)"
   ],
   "metadata": {
    "collapsed": false,
    "pycharm": {
     "name": "#%%\n"
    }
   }
  }
 ],
 "metadata": {
  "kernelspec": {
   "display_name": "Python 3",
   "language": "python",
   "name": "python3"
  },
  "language_info": {
   "codemirror_mode": {
    "name": "ipython",
    "version": 2
   },
   "file_extension": ".py",
   "mimetype": "text/x-python",
   "name": "python",
   "nbconvert_exporter": "python",
   "pygments_lexer": "ipython2",
   "version": "2.7.6"
  }
 },
 "nbformat": 4,
 "nbformat_minor": 0
}