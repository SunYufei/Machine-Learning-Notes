{
 "cells": [
  {
   "cell_type": "markdown",
   "metadata": {
    "collapsed": true,
    "pycharm": {
     "name": "#%% md\n"
    }
   },
   "source": [
    "# TensorFlow Dataset\n",
    "\n",
    "如果遇到大量的图片文件，将其全部写入 npy 文件，训练时读到内存可能会遇到内存不足的问题\n",
    "\n",
    "一种解决方法是将图片路径、标签写入文件，训练时再读取。这就需要自定义数据集\n",
    "\n",
    "自定义数据集需要继承 `tensorflow.python.keras.utils.data_utils.Sequence` 类，并实现 `__len__` 和 `__getitem__` 方法\n",
    "\n",
    "假设 csv 文件中每行文件的内容为：图片绝对路径;标签"
   ]
  },
  {
   "cell_type": "code",
   "execution_count": null,
   "outputs": [],
   "source": [
    "import cv2\n",
    "import numpy as np\n",
    "from tensorflow.keras.utils import to_categorical\n",
    "from tensorflow.python.keras.utils.data_utils import Sequence\n",
    "\n",
    "class DataLoader(Sequence):\n",
    "    def __init__(self, type='train', batch_size=32, num_classes=8):\n",
    "        with open(f'dataset/{type}.csv') as f:\n",
    "            self.lines = [line.strip() for line in f.readlines()]\n",
    "        self.batch_size = batch_size\n",
    "        self.num_classes = num_classes\n",
    "\n",
    "    def __len__(self):\n",
    "        return int(np.ceil(len(self.lines) / self.batch_size))\n",
    "\n",
    "    def __getitem__(self, idx):\n",
    "        # 此处的 getitem 读取的是一个 batch\n",
    "        batch = self.lines[idx * self.batch_size:(idx + 1) * self.batch_size]\n",
    "        return self.preprocess(batch)\n",
    "\n",
    "    def preprocess(self, batch_data):\n",
    "        # load images and labels\n",
    "        # labels -> to_categorial(labels)\n",
    "        images = []\n",
    "        labels = []\n",
    "        for data in batch_data:\n",
    "            images.append(cv2.imread(data.split(';')[0]))\n",
    "            labels.append(int(data.split(';')[1]))\n",
    "        labels = to_categorical(labels, self.num_classes, dtype=int)\n",
    "        return np.array(images), labels"
   ],
   "metadata": {
    "collapsed": false,
    "pycharm": {
     "name": "#%%\n"
    }
   }
  }
 ],
 "metadata": {
  "kernelspec": {
   "display_name": "Python 3",
   "language": "python",
   "name": "python3"
  },
  "language_info": {
   "codemirror_mode": {
    "name": "ipython",
    "version": 2
   },
   "file_extension": ".py",
   "mimetype": "text/x-python",
   "name": "python",
   "nbconvert_exporter": "python",
   "pygments_lexer": "ipython2",
   "version": "2.7.6"
  }
 },
 "nbformat": 4,
 "nbformat_minor": 0
}