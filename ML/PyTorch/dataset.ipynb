{
 "cells": [
  {
   "cell_type": "markdown",
   "metadata": {
    "collapsed": true,
    "pycharm": {
     "name": "#%% md\n"
    }
   },
   "source": [
    "# PyTorch Dataset\n",
    "\n",
    "若数据和标签使用 `numpy.ndarray` 保存，可以直接使用 `torch.utils.data.TensorDataset` 来完成转换"
   ]
  },
  {
   "cell_type": "code",
   "execution_count": null,
   "outputs": [],
   "source": [
    "import numpy as np\n",
    "import torch\n",
    "from torch.utils.data import TensorDataset, DataLoader\n",
    "\n",
    "x_train = np.zeros((6000, 28, 28, 1))\n",
    "y_train = np.zeros((6000, ))\n",
    "\n",
    "train_set = TensorDataset(torch.from_numpy(x_train),\n",
    "                          torch.from_numpy(y_train))"
   ],
   "metadata": {
    "collapsed": false,
    "pycharm": {
     "name": "#%%\n"
    }
   }
  },
  {
   "cell_type": "markdown",
   "source": [
    "自定义数据集需要继承 `torch.utils.data.Dataset` 类，并实现 `__len__` 和 `__getitem__` 方法\n",
    "\n",
    "此处假设使用 csv 文件保存数据集的信息，csv 文件每行是一个二元组 `(图片路径, 标签)`"
   ],
   "metadata": {
    "collapsed": false,
    "pycharm": {
     "name": "#%% md\n"
    }
   }
  },
  {
   "cell_type": "code",
   "execution_count": null,
   "outputs": [],
   "source": [
    "import cv2\n",
    "import os\n",
    "from torch.utils.data import Dataset\n",
    "from torchvision.transforms import ToTensor\n",
    "\n",
    "class MyDataset(Dataset):\n",
    "    def __init__(self, csv='train.csv'):\n",
    "        # 文件路径\n",
    "        self.base = os.path.dirname(csv)\n",
    "        # 读文件\n",
    "        with open(csv) as f:\n",
    "            # 去掉第一行\n",
    "            f.readline()\n",
    "            # 读剩下的行，并去掉多余的字符\n",
    "            lines = [line.strip() for line in f.readlines()]\n",
    "        # 图片路径\n",
    "        self.paths = [line.split(',')[0] for line in lines]\n",
    "        self.labels = [int(line.split(',')[-1]) for line in lines]\n",
    "        # 转换器，以 ToTensor 为例\n",
    "        self.transforms = ToTensor()\n",
    "    \n",
    "    def __len__(self):\n",
    "        return len(self.paths)\n",
    "    \n",
    "    def __getitem__(self, item):\n",
    "        path = self.paths[item]\n",
    "        label = self.labels[item]\n",
    "        img = cv2.imread(os.path.join(self.base, path))\n",
    "        img = self.transforms(img)\n",
    "        return img, label\n",
    "    "
   ],
   "metadata": {
    "collapsed": false,
    "pycharm": {
     "name": "#%%\n"
    }
   }
  },
  {
   "cell_type": "markdown",
   "source": [
    "数据集定义完毕后需要使用 `DataLoader` 进行读取"
   ],
   "metadata": {
    "collapsed": false,
    "pycharm": {
     "name": "#%% md\n"
    }
   }
  },
  {
   "cell_type": "code",
   "execution_count": null,
   "outputs": [],
   "source": [
    "batch_size = 64\n",
    "num_workers = 4 # 多线程读取，线程数\n",
    "\n",
    "train_loader = DataLoader(train_set,\n",
    "                          batch_size=batch_size,\n",
    "                          shuffle=True, # 是否打乱数据\n",
    "                          num_workers=num_workers)"
   ],
   "metadata": {
    "collapsed": false,
    "pycharm": {
     "name": "#%%\n"
    }
   }
  }
 ],
 "metadata": {
  "kernelspec": {
   "display_name": "Python 3",
   "language": "python",
   "name": "python3"
  },
  "language_info": {
   "codemirror_mode": {
    "name": "ipython",
    "version": 2
   },
   "file_extension": ".py",
   "mimetype": "text/x-python",
   "name": "python",
   "nbconvert_exporter": "python",
   "pygments_lexer": "ipython2",
   "version": "2.7.6"
  },
  "pycharm": {
   "stem_cell": {
    "cell_type": "raw",
    "source": [],
    "metadata": {
     "collapsed": false
    }
   }
  }
 },
 "nbformat": 4,
 "nbformat_minor": 0
}