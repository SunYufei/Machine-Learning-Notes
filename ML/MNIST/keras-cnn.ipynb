{
 "cells": [
  {
   "cell_type": "markdown",
   "metadata": {},
   "source": [
    "# Keras CNN"
   ]
  },
  {
   "cell_type": "code",
   "execution_count": 1,
   "metadata": {
    "pycharm": {
     "is_executing": false
    }
   },
   "outputs": [],
   "source": [
    "from tensorflow.keras.utils import to_categorical\n",
    "from tensorflow.keras.models import Sequential\n",
    "from tensorflow.keras.layers import Conv2D, MaxPool2D, Flatten, Dropout, Dense\n",
    "from tensorflow.keras.losses import categorical_crossentropy\n",
    "from tensorflow.keras.optimizers import Adadelta\n",
    "from tensorflow.keras.activations import relu, softmax\n",
    "\n",
    "import numpy as np"
   ]
  },
  {
   "cell_type": "markdown",
   "metadata": {},
   "source": [
    "### 提取数据"
   ]
  },
  {
   "cell_type": "code",
   "execution_count": 3,
   "metadata": {
    "pycharm": {
     "is_executing": false
    }
   },
   "outputs": [],
   "source": [
    "f = np.load('mnist.npz')\n",
    "train_images = f['x_train']\n",
    "train_labels = f['y_train']\n",
    "test_images = f['x_test']\n",
    "test_labels = f['y_test']"
   ]
  },
  {
   "cell_type": "markdown",
   "metadata": {},
   "source": [
    "### 改变形状，缩放值"
   ]
  },
  {
   "cell_type": "code",
   "execution_count": 3,
   "metadata": {},
   "outputs": [],
   "source": [
    "train_images: np.ndarray = train_images.reshape((-1, 28, 28, 1))\n",
    "train_images = train_images.astype('float32') / 255\n",
    "\n",
    "test_images: np.ndarray = test_images.reshape((-1, 28, 28, 1))\n",
    "test_images = test_images.astype('float32') / 255"
   ]
  },
  {
   "cell_type": "markdown",
   "metadata": {},
   "source": [
    "### 标签分类编码"
   ]
  },
  {
   "cell_type": "code",
   "execution_count": 4,
   "metadata": {},
   "outputs": [],
   "source": [
    "train_labels = to_categorical(train_labels)\n",
    "test_labels = to_categorical(test_labels)"
   ]
  },
  {
   "cell_type": "markdown",
   "metadata": {},
   "source": [
    "### 网络架构"
   ]
  },
  {
   "cell_type": "code",
   "execution_count": 5,
   "metadata": {},
   "outputs": [],
   "source": [
    "model = Sequential()\n",
    "model.add(Conv2D(32, (5, 5), activation=relu, input_shape=(28, 28, 1)))\n",
    "model.add(Conv2D(64, (5, 5), activation=relu))\n",
    "model.add(MaxPool2D(pool_size=(2, 2)))\n",
    "model.add(Flatten())\n",
    "model.add(Dropout(0.5))\n",
    "model.add(Dense(128, activation=relu))\n",
    "model.add(Dropout(0.5))\n",
    "model.add(Dense(10, activation=softmax))"
   ]
  },
  {
   "cell_type": "markdown",
   "metadata": {},
   "source": [
    "### 模型结构"
   ]
  },
  {
   "cell_type": "code",
   "execution_count": 6,
   "metadata": {},
   "outputs": [
    {
     "name": "stdout",
     "output_type": "stream",
     "text": [
      "_________________________________________________________________\n",
      "Layer (type)                 Output Shape              Param #   \n",
      "=================================================================\n",
      "conv2d_1 (Conv2D)            (None, 24, 24, 32)        832       \n",
      "_________________________________________________________________\n",
      "conv2d_2 (Conv2D)            (None, 20, 20, 64)        51264     \n",
      "_________________________________________________________________\n",
      "max_pooling2d_1 (MaxPooling2 (None, 10, 10, 64)        0         \n",
      "_________________________________________________________________\n",
      "flatten_1 (Flatten)          (None, 6400)              0         \n",
      "_________________________________________________________________\n",
      "dropout_1 (Dropout)          (None, 6400)              0         \n",
      "_________________________________________________________________\n",
      "dense_1 (Dense)              (None, 128)               819328    \n",
      "_________________________________________________________________\n",
      "dropout_2 (Dropout)          (None, 128)               0         \n",
      "_________________________________________________________________\n",
      "dense_2 (Dense)              (None, 10)                1290      \n",
      "=================================================================\n",
      "Total params: 872,714\n",
      "Trainable params: 872,714\n",
      "Non-trainable params: 0\n",
      "_________________________________________________________________\n"
     ]
    }
   ],
   "source": [
    "model.summary()"
   ]
  },
  {
   "cell_type": "markdown",
   "metadata": {},
   "source": [
    "### 编译步骤\n",
    "\n",
    "损失函数、优化器、监控指标"
   ]
  },
  {
   "cell_type": "code",
   "execution_count": 7,
   "metadata": {},
   "outputs": [],
   "source": [
    "model.compile(loss=categorical_crossentropy,\n",
    "              optimizer=Adadelta(),\n",
    "              metrics=['accuracy'])"
   ]
  },
  {
   "cell_type": "markdown",
   "metadata": {},
   "source": [
    "### 模型拟合"
   ]
  },
  {
   "cell_type": "code",
   "execution_count": 8,
   "metadata": {},
   "outputs": [
    {
     "name": "stdout",
     "output_type": "stream",
     "text": [
      "Train on 60000 samples, validate on 10000 samples\n",
      "Epoch 1/8\n",
      "60000/60000 [==============================] - 32s 525us/step - loss: 0.2215 - acc: 0.9319 - val_loss: 0.0530 - val_acc: 0.9839\n",
      "Epoch 2/8\n",
      "60000/60000 [==============================] - 28s 471us/step - loss: 0.0823 - acc: 0.9762 - val_loss: 0.0354 - val_acc: 0.9880\n",
      "Epoch 3/8\n",
      "60000/60000 [==============================] - 28s 472us/step - loss: 0.0643 - acc: 0.9806 - val_loss: 0.0266 - val_acc: 0.9904\n",
      "Epoch 4/8\n",
      "60000/60000 [==============================] - 28s 472us/step - loss: 0.0528 - acc: 0.9848 - val_loss: 0.0269 - val_acc: 0.9906\n",
      "Epoch 5/8\n",
      "60000/60000 [==============================] - 28s 472us/step - loss: 0.0472 - acc: 0.9862 - val_loss: 0.0248 - val_acc: 0.9919\n",
      "Epoch 6/8\n",
      "60000/60000 [==============================] - 28s 472us/step - loss: 0.0424 - acc: 0.9879 - val_loss: 0.0249 - val_acc: 0.9919\n",
      "Epoch 7/8\n",
      "60000/60000 [==============================] - 28s 471us/step - loss: 0.0416 - acc: 0.9875 - val_loss: 0.0221 - val_acc: 0.9929\n",
      "Epoch 8/8\n",
      "60000/60000 [==============================] - 28s 472us/step - loss: 0.0369 - acc: 0.9887 - val_loss: 0.0211 - val_acc: 0.9939\n"
     ]
    }
   ],
   "source": [
    "epochs = 8\n",
    "\n",
    "log = model.fit(train_images, train_labels,\n",
    "                batch_size=100,\n",
    "                epochs=8,\n",
    "                validation_data=(test_images, test_labels))"
   ]
  },
  {
   "cell_type": "markdown",
   "metadata": {},
   "source": [
    "### 绘制 loss 与 accuracy"
   ]
  },
  {
   "cell_type": "code",
   "execution_count": 9,
   "metadata": {},
   "outputs": [
    {
     "data": {
      "image/png": "[encoded data removed]",
      "text/plain": [
       "<Figure size 432x288 with 1 Axes>"
      ]
     },
     "metadata": {
      "needs_background": "light"
     },
     "output_type": "display_data"
    }
   ],
   "source": [
    "import matplotlib.pyplot as plt\n",
    "\n",
    "%matplotlib inline\n",
    "\n",
    "plt.figure()\n",
    "plt.plot(log.history['loss'], label='train_loss')\n",
    "plt.plot(log.history['val_loss'], label='val_loss')\n",
    "plt.plot(log.history['acc'], label='acc')\n",
    "plt.plot(log.history['val_acc'], label='val_acc')\n",
    "plt.xlabel('Epochs')\n",
    "plt.xlim((0, epochs + 2))\n",
    "plt.legend(loc='upper right')\n",
    "plt.show()"
   ]
  }
 ],
 "metadata": {
  "kernelspec": {
   "name": "python37664bitdevelopvirtualenv5f2dd2c040294b42b2d90af25b6178b3",
   "language": "python",
   "display_name": "Python 3.7.6 64-bit ('Develop': virtualenv)"
  },
  "language_info": {
   "codemirror_mode": {
    "name": "ipython",
    "version": 3
   },
   "file_extension": ".py",
   "mimetype": "text/x-python",
   "name": "python",
   "nbconvert_exporter": "python",
   "pygments_lexer": "ipython3",
   "version": "3.7.6-final"
  },
  "pycharm": {
   "stem_cell": {
    "cell_type": "raw",
    "source": [],
    "metadata": {
     "collapsed": false
    }
   }
  }
 },
 "nbformat": 4,
 "nbformat_minor": 4
}