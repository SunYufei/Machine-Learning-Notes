{
 "cells": [
  {
   "cell_type": "markdown",
   "metadata": {},
   "source": [
    "# Keras FC"
   ]
  },
  {
   "cell_type": "code",
   "execution_count": 1,
   "metadata": {},
   "outputs": [
    {
     "name": "stderr",
     "output_type": "stream",
     "text": [
      "Using TensorFlow backend.\n"
     ]
    }
   ],
   "source": [
    "from tensorflow.keras import models\n",
    "from tensorflow.keras import layers\n",
    "from tensorflow.keras.activations import relu, softmax\n",
    "from tensorflow.keras.optimizers import RMSprop\n",
    "from tensorflow.keras.losses import categorical_crossentropy\n",
    "from tensorflow.keras.utils import to_categorical\n",
    "\n",
    "import numpy as np"
   ]
  },
  {
   "cell_type": "markdown",
   "metadata": {},
   "source": [
    "### 提取数据"
   ]
  },
  {
   "cell_type": "code",
   "execution_count": 2,
   "metadata": {},
   "outputs": [],
   "source": [
    "f = np.load('mnist.npz')\n",
    "train_images = f['x_train']\n",
    "train_labels = f['y_train']\n",
    "test_images = f['x_test']\n",
    "test_labels = f['y_test']"
   ]
  },
  {
   "cell_type": "markdown",
   "metadata": {},
   "source": [
    "### 改变形状，缩放值"
   ]
  },
  {
   "cell_type": "code",
   "execution_count": 3,
   "metadata": {},
   "outputs": [],
   "source": [
    "train_images: np.ndarray = train_images.reshape((60000, 28 * 28))\n",
    "train_images = train_images.astype('float32') / 255\n",
    "\n",
    "test_images: np.ndarray = test_images.reshape((10000, 28 * 28))\n",
    "test_images = test_images.astype('float32') / 255"
   ]
  },
  {
   "cell_type": "markdown",
   "metadata": {},
   "source": [
    "### 标签分类编码"
   ]
  },
  {
   "cell_type": "code",
   "execution_count": 4,
   "metadata": {},
   "outputs": [],
   "source": [
    "train_labels = to_categorical(train_labels)\n",
    "test_labels = to_categorical(test_labels)"
   ]
  },
  {
   "cell_type": "markdown",
   "metadata": {},
   "source": [
    "### 网络架构"
   ]
  },
  {
   "cell_type": "code",
   "execution_count": 5,
   "metadata": {},
   "outputs": [],
   "source": [
    "network = models.Sequential()\n",
    "network.add(layers.Dense(512, activation=relu, input_shape=(28 * 28,)))\n",
    "network.add(layers.Dense(10, activation=softmax))"
   ]
  },
  {
   "cell_type": "markdown",
   "metadata": {},
   "source": [
    "### 模型结构"
   ]
  },
  {
   "cell_type": "code",
   "execution_count": 6,
   "metadata": {},
   "outputs": [
    {
     "name": "stdout",
     "output_type": "stream",
     "text": [
      "_________________________________________________________________\n",
      "Layer (type)                 Output Shape              Param #   \n",
      "=================================================================\n",
      "dense_1 (Dense)              (None, 512)               401920    \n",
      "_________________________________________________________________\n",
      "dense_2 (Dense)              (None, 10)                5130      \n",
      "=================================================================\n",
      "Total params: 407,050\n",
      "Trainable params: 407,050\n",
      "Non-trainable params: 0\n",
      "_________________________________________________________________\n"
     ]
    }
   ],
   "source": [
    "network.summary()"
   ]
  },
  {
   "cell_type": "markdown",
   "metadata": {},
   "source": [
    "### 编译步骤\n",
    "\n",
    "损失函数、优化器、监控指标"
   ]
  },
  {
   "cell_type": "code",
   "execution_count": 7,
   "metadata": {},
   "outputs": [],
   "source": [
    "network.compile(optimizer=RMSprop(),\n",
    "                loss=categorical_crossentropy,\n",
    "                metrics=['accuracy'])"
   ]
  },
  {
   "cell_type": "markdown",
   "metadata": {},
   "source": [
    "### 模型拟合"
   ]
  },
  {
   "cell_type": "code",
   "execution_count": 8,
   "metadata": {},
   "outputs": [
    {
     "name": "stdout",
     "output_type": "stream",
     "text": [
      "Train on 60000 samples, validate on 10000 samples\n",
      "Epoch 1/8\n",
      "60000/60000 [==============================] - 3s 44us/step - loss: 0.0021 - acc: 0.9996 - val_loss: 0.0878 - val_acc: 0.9804\n",
      "Epoch 2/8\n",
      "60000/60000 [==============================] - 3s 43us/step - loss: 0.0015 - acc: 0.9998 - val_loss: 0.0838 - val_acc: 0.9831\n",
      "Epoch 3/8\n",
      "60000/60000 [==============================] - 3s 43us/step - loss: 0.0015 - acc: 0.9996 - val_loss: 0.0838 - val_acc: 0.9828\n",
      "Epoch 4/8\n",
      "60000/60000 [==============================] - 3s 43us/step - loss: 0.0012 - acc: 0.9997 - val_loss: 0.0863 - val_acc: 0.9831\n",
      "Epoch 5/8\n",
      "60000/60000 [==============================] - 3s 43us/step - loss: 9.0304e-04 - acc: 0.9998 - val_loss: 0.0874 - val_acc: 0.9830\n",
      "Epoch 6/8\n",
      "60000/60000 [==============================] - 3s 43us/step - loss: 9.9255e-04 - acc: 0.9998 - val_loss: 0.0937 - val_acc: 0.9824\n",
      "Epoch 7/8\n",
      "60000/60000 [==============================] - 3s 44us/step - loss: 8.7154e-04 - acc: 0.9999 - val_loss: 0.0988 - val_acc: 0.9824\n",
      "Epoch 8/8\n",
      "60000/60000 [==============================] - 3s 43us/step - loss: 6.3135e-04 - acc: 0.9999 - val_loss: 0.1048 - val_acc: 0.9818\n"
     ]
    }
   ],
   "source": [
    "epochs = 8\n",
    "log = network.fit(train_images, train_labels,\n",
    "                    epochs=epochs, batch_size=128,\n",
    "                    validation_data=(test_images, test_labels))"
   ]
  },
  {
   "cell_type": "markdown",
   "metadata": {},
   "source": [
    "### 绘制 loss 和 accuracy"
   ]
  },
  {
   "cell_type": "code",
   "execution_count": 9,
   "metadata": {},
   "outputs": [
    {
     "data": {
      "image/png": "[encoded data removed]",
      "text/plain": [
       "<Figure size 432x288 with 1 Axes>"
      ]
     },
     "metadata": {
      "needs_background": "light"
     },
     "output_type": "display_data"
    }
   ],
   "source": [
    "import matplotlib.pyplot as plt\n",
    "\n",
    "%matplotlib inline\n",
    "\n",
    "plt.figure()\n",
    "plt.plot(log.history['loss'], label='train_loss')\n",
    "plt.plot(log.history['val_loss'], label='val_loss')\n",
    "plt.plot(log.history['acc'], label='acc')\n",
    "plt.plot(log.history['val_acc'], label='val_acc')\n",
    "plt.xlabel('Epochs')\n",
    "plt.xlim((0, epochs + 2))\n",
    "plt.legend(loc='upper right')\n",
    "plt.show()"
   ]
  }
 ],
 "metadata": {
  "kernelspec": {
   "name": "python37664bitdevelopvirtualenv5f2dd2c040294b42b2d90af25b6178b3",
   "language": "python",
   "display_name": "Python 3.7.6 64-bit ('Develop': virtualenv)"
  },
  "language_info": {
   "codemirror_mode": {
    "name": "ipython",
    "version": 3
   },
   "file_extension": ".py",
   "mimetype": "text/x-python",
   "name": "python",
   "nbconvert_exporter": "python",
   "pygments_lexer": "ipython3",
   "version": "3.6.9"
  },
  "pycharm": {
   "stem_cell": {
    "cell_type": "raw",
    "source": [],
    "metadata": {
     "collapsed": false
    }
   }
  }
 },
 "nbformat": 4,
 "nbformat_minor": 4
}