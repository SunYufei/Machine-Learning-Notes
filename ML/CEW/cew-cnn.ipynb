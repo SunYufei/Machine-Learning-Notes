{
 "cells": [
  {
   "cell_type": "markdown",
   "metadata": {},
   "source": [
    "# CEW (Closed Eyes in the Wild) CNN\n",
    "\n",
    "### 论文复现\n",
    "\n",
    "黄洁媛, 岑翼刚, 张琳娜, et al. 基于卷积神经网络的人眼状态检测[J]. 扬州大学学报(自然科学版), 2018, 21(03):28-32+37."
   ]
  },
  {
   "cell_type": "code",
   "execution_count": 1,
   "metadata": {
    "pycharm": {
     "is_executing": false
    }
   },
   "outputs": [
    {
     "name": "stderr",
     "output_type": "stream",
     "text": [
      "Using TensorFlow backend.\n"
     ]
    }
   ],
   "source": [
    "from keras.models import *\n",
    "from keras.layers import *\n",
    "from keras.activations import *\n",
    "from keras.losses import *\n",
    "from keras.optimizers import *\n",
    "from keras.utils import to_categorical"
   ]
  },
  {
   "cell_type": "markdown",
   "metadata": {},
   "source": [
    "### 读入数据集"
   ]
  },
  {
   "cell_type": "code",
   "execution_count": 2,
   "metadata": {
    "pycharm": {
     "is_executing": false
    }
   },
   "outputs": [],
   "source": [
    "import numpy as np\n",
    "\n",
    "data = np.load('cew-all-in-one.npz')\n",
    "\n",
    "x_train: np.ndarray = data['x_train']\n",
    "y_train: np.ndarray = data['y_train']\n",
    "x_test: np.ndarray = data['x_test']\n",
    "y_test: np.ndarray = data['y_test']"
   ]
  },
  {
   "cell_type": "markdown",
   "metadata": {},
   "source": [
    "### 改变形状、缩放值"
   ]
  },
  {
   "cell_type": "code",
   "execution_count": 3,
   "metadata": {
    "pycharm": {
     "is_executing": false
    }
   },
   "outputs": [],
   "source": [
    "x_train = x_train.reshape((-1, 24, 24, 1))\n",
    "x_train = x_train.astype('float32') / 255\n",
    "\n",
    "x_test = x_test.reshape((-1, 24, 24, 1))\n",
    "x_test = x_test.astype('float32') / 255"
   ]
  },
  {
   "cell_type": "markdown",
   "metadata": {},
   "source": [
    "### 标签分类编码"
   ]
  },
  {
   "cell_type": "code",
   "execution_count": 4,
   "metadata": {
    "pycharm": {
     "is_executing": false
    }
   },
   "outputs": [],
   "source": [
    "y_train = to_categorical(y_train)\n",
    "y_test = to_categorical(y_test)"
   ]
  },
  {
   "cell_type": "markdown",
   "metadata": {},
   "source": [
    "### 网络结构"
   ]
  },
  {
   "cell_type": "code",
   "execution_count": 5,
   "metadata": {
    "pycharm": {
     "is_executing": false
    }
   },
   "outputs": [],
   "source": [
    "model = Sequential()\n",
    "\n",
    "model.add(Conv2D(32, (5, 5), activation=relu, input_shape=(24, 24, 1)))\n",
    "model.add(BatchNormalization())\n",
    "model.add(MaxPool2D((3, 3), strides=2, padding='same'))\n",
    "\n",
    "model.add(Conv2D(64, (5, 5), activation=relu))\n",
    "model.add(BatchNormalization())\n",
    "model.add(MaxPool2D((2, 2), strides=2))\n",
    "\n",
    "model.add(GlobalAvgPool2D())\n",
    "model.add(Dropout(0.5))\n",
    "\n",
    "model.add(Dense(128, activation=relu))\n",
    "model.add(Dropout(0.5))\n",
    "\n",
    "model.add(Dense(2, activation=softmax))"
   ]
  },
  {
   "cell_type": "markdown",
   "metadata": {},
   "source": [
    "### 模型结构"
   ]
  },
  {
   "cell_type": "code",
   "execution_count": 6,
   "metadata": {
    "pycharm": {
     "is_executing": false
    }
   },
   "outputs": [
    {
     "name": "stdout",
     "output_type": "stream",
     "text": [
      "_________________________________________________________________\n",
      "Layer (type)                 Output Shape              Param #   \n",
      "=================================================================\n",
      "conv2d_1 (Conv2D)            (None, 20, 20, 32)        832       \n",
      "_________________________________________________________________\n",
      "batch_normalization_1 (Batch (None, 20, 20, 32)        128       \n",
      "_________________________________________________________________\n",
      "max_pooling2d_1 (MaxPooling2 (None, 10, 10, 32)        0         \n",
      "_________________________________________________________________\n",
      "conv2d_2 (Conv2D)            (None, 6, 6, 64)          51264     \n",
      "_________________________________________________________________\n",
      "batch_normalization_2 (Batch (None, 6, 6, 64)          256       \n",
      "_________________________________________________________________\n",
      "max_pooling2d_2 (MaxPooling2 (None, 3, 3, 64)          0         \n",
      "_________________________________________________________________\n",
      "global_average_pooling2d_1 ( (None, 64)                0         \n",
      "_________________________________________________________________\n",
      "dropout_1 (Dropout)          (None, 64)                0         \n",
      "_________________________________________________________________\n",
      "dense_1 (Dense)              (None, 128)               8320      \n",
      "_________________________________________________________________\n",
      "dropout_2 (Dropout)          (None, 128)               0         \n",
      "_________________________________________________________________\n",
      "dense_2 (Dense)              (None, 2)                 258       \n",
      "=================================================================\n",
      "Total params: 61,058\n",
      "Trainable params: 60,866\n",
      "Non-trainable params: 192\n",
      "_________________________________________________________________\n"
     ]
    }
   ],
   "source": [
    "model.summary()"
   ]
  },
  {
   "cell_type": "markdown",
   "metadata": {},
   "source": [
    "### 编译步骤\n",
    "\n",
    "损失函数、优化器、监控指标"
   ]
  },
  {
   "cell_type": "code",
   "execution_count": 7,
   "metadata": {
    "pycharm": {
     "is_executing": false
    }
   },
   "outputs": [],
   "source": [
    "model.compile(loss=categorical_crossentropy,\n",
    "              optimizer=Adadelta(),\n",
    "              metrics=['accuracy'])"
   ]
  },
  {
   "cell_type": "markdown",
   "metadata": {},
   "source": [
    "### 模型拟合"
   ]
  },
  {
   "cell_type": "code",
   "execution_count": 8,
   "metadata": {
    "pycharm": {
     "is_executing": true
    }
   },
   "outputs": [
    {
     "name": "stdout",
     "output_type": "stream",
     "text": [
      "Train on 7344 samples, validate on 1640 samples\n",
      "Epoch 1/100\n",
      "7344/7344 [==============================] - 3s 475us/step - loss: 0.4208 - acc: 0.8228 - val_loss: 0.9422 - val_acc: 0.7659\n",
      "Epoch 2/100\n",
      "7344/7344 [==============================] - 2s 227us/step - loss: 0.2149 - acc: 0.9137 - val_loss: 0.2759 - val_acc: 0.8774\n",
      "Epoch 3/100\n",
      "7344/7344 [==============================] - 2s 229us/step - loss: 0.1905 - acc: 0.9246 - val_loss: 0.2006 - val_acc: 0.9238\n",
      "Epoch 4/100\n",
      "7344/7344 [==============================] - 2s 226us/step - loss: 0.1677 - acc: 0.9357 - val_loss: 0.2503 - val_acc: 0.9396\n",
      "Epoch 5/100\n",
      "7344/7344 [==============================] - 2s 227us/step - loss: 0.1571 - acc: 0.9394 - val_loss: 0.3294 - val_acc: 0.8921\n",
      "Epoch 6/100\n",
      "7344/7344 [==============================] - 2s 227us/step - loss: 0.1544 - acc: 0.9435 - val_loss: 0.2492 - val_acc: 0.8994\n",
      "Epoch 7/100\n",
      "7344/7344 [==============================] - 2s 229us/step - loss: 0.1372 - acc: 0.9465 - val_loss: 0.2424 - val_acc: 0.9287\n",
      "Epoch 8/100\n",
      "7344/7344 [==============================] - 2s 227us/step - loss: 0.1402 - acc: 0.9458 - val_loss: 0.3920 - val_acc: 0.8750\n",
      "Epoch 9/100\n",
      "7344/7344 [==============================] - 2s 227us/step - loss: 0.1281 - acc: 0.9518 - val_loss: 0.2241 - val_acc: 0.9366\n",
      "Epoch 10/100\n",
      "7344/7344 [==============================] - 2s 227us/step - loss: 0.1219 - acc: 0.9532 - val_loss: 0.2091 - val_acc: 0.9366\n",
      "Epoch 11/100\n",
      "7344/7344 [==============================] - 2s 227us/step - loss: 0.1191 - acc: 0.9579 - val_loss: 0.2451 - val_acc: 0.9323\n",
      "Epoch 12/100\n",
      "7344/7344 [==============================] - 2s 232us/step - loss: 0.1189 - acc: 0.9577 - val_loss: 0.2199 - val_acc: 0.9390\n",
      "Epoch 13/100\n",
      "7344/7344 [==============================] - 2s 223us/step - loss: 0.1167 - acc: 0.9560 - val_loss: 0.1598 - val_acc: 0.9598\n",
      "Epoch 14/100\n",
      "7344/7344 [==============================] - 2s 223us/step - loss: 0.1117 - acc: 0.9579 - val_loss: 0.2234 - val_acc: 0.9372\n",
      "Epoch 15/100\n",
      "7344/7344 [==============================] - 2s 225us/step - loss: 0.1060 - acc: 0.9608 - val_loss: 0.5144 - val_acc: 0.8610\n",
      "Epoch 16/100\n",
      "7344/7344 [==============================] - 2s 227us/step - loss: 0.1045 - acc: 0.9612 - val_loss: 0.2812 - val_acc: 0.9152\n",
      "Epoch 17/100\n",
      "7344/7344 [==============================] - 2s 229us/step - loss: 0.1006 - acc: 0.9626 - val_loss: 0.1701 - val_acc: 0.9573\n",
      "Epoch 18/100\n",
      "7344/7344 [==============================] - 2s 227us/step - loss: 0.1027 - acc: 0.9626 - val_loss: 0.1719 - val_acc: 0.9457\n",
      "Epoch 19/100\n",
      "7344/7344 [==============================] - 2s 231us/step - loss: 0.0941 - acc: 0.9639 - val_loss: 0.2945 - val_acc: 0.9220\n",
      "Epoch 20/100\n",
      "7344/7344 [==============================] - 2s 233us/step - loss: 0.0923 - acc: 0.9665 - val_loss: 0.2495 - val_acc: 0.9372\n",
      "Epoch 21/100\n",
      "7344/7344 [==============================] - 2s 230us/step - loss: 0.0847 - acc: 0.9719 - val_loss: 0.4881 - val_acc: 0.8409\n",
      "Epoch 22/100\n",
      "7344/7344 [==============================] - 2s 231us/step - loss: 0.0897 - acc: 0.9661 - val_loss: 0.2206 - val_acc: 0.9287\n",
      "Epoch 23/100\n",
      "7344/7344 [==============================] - 2s 243us/step - loss: 0.0940 - acc: 0.9620 - val_loss: 0.5997 - val_acc: 0.8890\n",
      "Epoch 24/100\n",
      "7344/7344 [==============================] - 2s 236us/step - loss: 0.0929 - acc: 0.9651 - val_loss: 0.1917 - val_acc: 0.9329\n",
      "Epoch 25/100\n",
      "7344/7344 [==============================] - 2s 227us/step - loss: 0.0832 - acc: 0.9699 - val_loss: 0.2062 - val_acc: 0.9427\n",
      "Epoch 26/100\n",
      "7344/7344 [==============================] - 2s 235us/step - loss: 0.0887 - acc: 0.9670 - val_loss: 0.2425 - val_acc: 0.9268\n",
      "Epoch 27/100\n",
      "7344/7344 [==============================] - 2s 223us/step - loss: 0.0842 - acc: 0.9681 - val_loss: 0.2296 - val_acc: 0.9354\n",
      "Epoch 28/100\n",
      "7344/7344 [==============================] - 2s 221us/step - loss: 0.0766 - acc: 0.9710 - val_loss: 0.3142 - val_acc: 0.9195\n",
      "Epoch 29/100\n",
      "7344/7344 [==============================] - 2s 223us/step - loss: 0.0814 - acc: 0.9699 - val_loss: 0.2799 - val_acc: 0.9067\n",
      "Epoch 30/100\n",
      "7344/7344 [==============================] - 2s 223us/step - loss: 0.0733 - acc: 0.9721 - val_loss: 0.2913 - val_acc: 0.9287\n",
      "Epoch 31/100\n",
      "7344/7344 [==============================] - 2s 226us/step - loss: 0.0801 - acc: 0.9700 - val_loss: 0.2094 - val_acc: 0.9378\n",
      "Epoch 32/100\n",
      "7344/7344 [==============================] - 2s 234us/step - loss: 0.0776 - acc: 0.9722 - val_loss: 0.2939 - val_acc: 0.9250\n",
      "Epoch 33/100\n",
      "7344/7344 [==============================] - 2s 233us/step - loss: 0.0759 - acc: 0.9724 - val_loss: 0.4925 - val_acc: 0.8945\n",
      "Epoch 34/100\n",
      "7344/7344 [==============================] - 2s 231us/step - loss: 0.0726 - acc: 0.9710 - val_loss: 0.1892 - val_acc: 0.9476\n",
      "Epoch 35/100\n",
      "7344/7344 [==============================] - 2s 227us/step - loss: 0.0741 - acc: 0.9721 - val_loss: 0.2269 - val_acc: 0.9409\n",
      "Epoch 36/100\n",
      "7344/7344 [==============================] - 2s 229us/step - loss: 0.0702 - acc: 0.9734 - val_loss: 0.2732 - val_acc: 0.9262\n",
      "Epoch 37/100\n",
      "7344/7344 [==============================] - 2s 227us/step - loss: 0.0739 - acc: 0.9715 - val_loss: 0.2718 - val_acc: 0.9177\n",
      "Epoch 38/100\n",
      "7344/7344 [==============================] - 2s 225us/step - loss: 0.0721 - acc: 0.9722 - val_loss: 0.3393 - val_acc: 0.9024\n",
      "Epoch 39/100\n",
      "7344/7344 [==============================] - 2s 222us/step - loss: 0.0665 - acc: 0.9728 - val_loss: 0.3432 - val_acc: 0.9177\n",
      "Epoch 40/100\n",
      "7344/7344 [==============================] - 2s 224us/step - loss: 0.0693 - acc: 0.9747 - val_loss: 0.4847 - val_acc: 0.9055\n",
      "Epoch 41/100\n",
      "7344/7344 [==============================] - 2s 225us/step - loss: 0.0678 - acc: 0.9747 - val_loss: 0.3628 - val_acc: 0.9207\n",
      "Epoch 42/100\n",
      "7344/7344 [==============================] - 2s 226us/step - loss: 0.0671 - acc: 0.9756 - val_loss: 0.3294 - val_acc: 0.9280\n",
      "Epoch 43/100\n",
      "7344/7344 [==============================] - 2s 223us/step - loss: 0.0681 - acc: 0.9737 - val_loss: 0.2947 - val_acc: 0.9348\n",
      "Epoch 44/100\n",
      "7344/7344 [==============================] - 2s 226us/step - loss: 0.0720 - acc: 0.9737 - val_loss: 0.3244 - val_acc: 0.9280\n",
      "Epoch 45/100\n",
      "7344/7344 [==============================] - 2s 225us/step - loss: 0.0637 - acc: 0.9769 - val_loss: 0.2529 - val_acc: 0.9348\n",
      "Epoch 46/100\n",
      "7344/7344 [==============================] - 2s 224us/step - loss: 0.0633 - acc: 0.9755 - val_loss: 0.2671 - val_acc: 0.9396\n",
      "Epoch 47/100\n",
      "7344/7344 [==============================] - 2s 223us/step - loss: 0.0646 - acc: 0.9775 - val_loss: 0.3396 - val_acc: 0.9165\n",
      "Epoch 48/100\n",
      "7344/7344 [==============================] - 2s 223us/step - loss: 0.0622 - acc: 0.9770 - val_loss: 1.3811 - val_acc: 0.8384\n",
      "Epoch 49/100\n",
      "7344/7344 [==============================] - 2s 222us/step - loss: 0.0638 - acc: 0.9760 - val_loss: 0.3303 - val_acc: 0.9183\n",
      "Epoch 50/100\n",
      "7344/7344 [==============================] - 2s 225us/step - loss: 0.0619 - acc: 0.9781 - val_loss: 0.3516 - val_acc: 0.9299\n",
      "Epoch 51/100\n",
      "7344/7344 [==============================] - 2s 225us/step - loss: 0.0631 - acc: 0.9764 - val_loss: 0.2346 - val_acc: 0.9311\n",
      "Epoch 52/100\n",
      "7344/7344 [==============================] - 2s 223us/step - loss: 0.0583 - acc: 0.9808 - val_loss: 0.5012 - val_acc: 0.9037\n",
      "Epoch 53/100\n",
      "7344/7344 [==============================] - 2s 223us/step - loss: 0.0611 - acc: 0.9770 - val_loss: 0.3610 - val_acc: 0.9171\n",
      "Epoch 54/100\n",
      "7344/7344 [==============================] - 2s 225us/step - loss: 0.0584 - acc: 0.9796 - val_loss: 0.2078 - val_acc: 0.9494\n",
      "Epoch 55/100\n",
      "7344/7344 [==============================] - 2s 234us/step - loss: 0.0578 - acc: 0.9786 - val_loss: 0.5238 - val_acc: 0.8994\n",
      "Epoch 56/100\n",
      "7344/7344 [==============================] - 2s 229us/step - loss: 0.0576 - acc: 0.9783 - val_loss: 0.2690 - val_acc: 0.9500\n",
      "Epoch 57/100\n",
      "7344/7344 [==============================] - 2s 236us/step - loss: 0.0545 - acc: 0.9789 - val_loss: 0.2689 - val_acc: 0.9415\n",
      "Epoch 58/100\n",
      "7344/7344 [==============================] - 2s 234us/step - loss: 0.0613 - acc: 0.9781 - val_loss: 0.2121 - val_acc: 0.9372\n",
      "Epoch 59/100\n",
      "7344/7344 [==============================] - 2s 225us/step - loss: 0.0590 - acc: 0.9777 - val_loss: 0.2826 - val_acc: 0.9323\n",
      "Epoch 60/100\n",
      "7344/7344 [==============================] - 2s 224us/step - loss: 0.0597 - acc: 0.9782 - val_loss: 0.2532 - val_acc: 0.9506\n",
      "Epoch 61/100\n",
      "7344/7344 [==============================] - 2s 222us/step - loss: 0.0557 - acc: 0.9815 - val_loss: 0.3672 - val_acc: 0.9238\n",
      "Epoch 62/100\n",
      "7344/7344 [==============================] - 2s 223us/step - loss: 0.0606 - acc: 0.9793 - val_loss: 0.3597 - val_acc: 0.9250\n",
      "Epoch 63/100\n",
      "7344/7344 [==============================] - 2s 223us/step - loss: 0.0459 - acc: 0.9820 - val_loss: 0.3939 - val_acc: 0.9165\n",
      "Epoch 64/100\n",
      "7344/7344 [==============================] - 2s 222us/step - loss: 0.0504 - acc: 0.9827 - val_loss: 0.4045 - val_acc: 0.9061\n",
      "Epoch 65/100\n",
      "7344/7344 [==============================] - 2s 229us/step - loss: 0.0531 - acc: 0.9816 - val_loss: 0.3148 - val_acc: 0.9256\n",
      "Epoch 66/100\n",
      "7344/7344 [==============================] - 2s 229us/step - loss: 0.0561 - acc: 0.9783 - val_loss: 0.3791 - val_acc: 0.9146\n",
      "Epoch 67/100\n",
      "7344/7344 [==============================] - 2s 226us/step - loss: 0.0480 - acc: 0.9820 - val_loss: 0.4447 - val_acc: 0.9110\n",
      "Epoch 68/100\n",
      "7344/7344 [==============================] - 2s 228us/step - loss: 0.0456 - acc: 0.9830 - val_loss: 0.4076 - val_acc: 0.9140\n",
      "Epoch 69/100\n",
      "7344/7344 [==============================] - 2s 248us/step - loss: 0.0517 - acc: 0.9826 - val_loss: 0.4059 - val_acc: 0.9268\n",
      "Epoch 70/100\n",
      "7344/7344 [==============================] - 2s 237us/step - loss: 0.0456 - acc: 0.9837 - val_loss: 0.4918 - val_acc: 0.9055\n",
      "Epoch 71/100\n",
      "7344/7344 [==============================] - 2s 225us/step - loss: 0.0449 - acc: 0.9828 - val_loss: 0.4211 - val_acc: 0.9159\n",
      "Epoch 72/100\n",
      "7344/7344 [==============================] - 2s 224us/step - loss: 0.0465 - acc: 0.9824 - val_loss: 0.2227 - val_acc: 0.9421\n",
      "Epoch 73/100\n",
      "7344/7344 [==============================] - 2s 223us/step - loss: 0.0456 - acc: 0.9826 - val_loss: 0.5915 - val_acc: 0.9128\n",
      "Epoch 74/100\n",
      "7344/7344 [==============================] - 2s 222us/step - loss: 0.0464 - acc: 0.9816 - val_loss: 0.3302 - val_acc: 0.9299\n",
      "Epoch 75/100\n",
      "7344/7344 [==============================] - 2s 232us/step - loss: 0.0460 - acc: 0.9827 - val_loss: 0.2696 - val_acc: 0.9384\n",
      "Epoch 76/100\n",
      "7344/7344 [==============================] - 2s 226us/step - loss: 0.0476 - acc: 0.9830 - val_loss: 0.3602 - val_acc: 0.9329\n",
      "Epoch 77/100\n",
      "7344/7344 [==============================] - 2s 222us/step - loss: 0.0464 - acc: 0.9831 - val_loss: 0.3288 - val_acc: 0.9226\n",
      "Epoch 78/100\n",
      "7344/7344 [==============================] - 2s 226us/step - loss: 0.0447 - acc: 0.9835 - val_loss: 0.2813 - val_acc: 0.9341\n",
      "Epoch 79/100\n",
      "7344/7344 [==============================] - 2s 229us/step - loss: 0.0454 - acc: 0.9842 - val_loss: 0.4781 - val_acc: 0.8970\n",
      "Epoch 80/100\n",
      "7344/7344 [==============================] - 2s 229us/step - loss: 0.0549 - acc: 0.9792 - val_loss: 0.4275 - val_acc: 0.9213\n",
      "Epoch 81/100\n",
      "7344/7344 [==============================] - 2s 222us/step - loss: 0.0499 - acc: 0.9809 - val_loss: 0.4451 - val_acc: 0.9183\n",
      "Epoch 82/100\n",
      "7344/7344 [==============================] - 2s 225us/step - loss: 0.0490 - acc: 0.9826 - val_loss: 0.3655 - val_acc: 0.9280\n",
      "Epoch 83/100\n",
      "7344/7344 [==============================] - 2s 223us/step - loss: 0.0445 - acc: 0.9827 - val_loss: 0.2596 - val_acc: 0.9390\n",
      "Epoch 84/100\n",
      "7344/7344 [==============================] - 2s 221us/step - loss: 0.0459 - acc: 0.9838 - val_loss: 0.5907 - val_acc: 0.9110\n",
      "Epoch 85/100\n",
      "7344/7344 [==============================] - 2s 222us/step - loss: 0.0434 - acc: 0.9841 - val_loss: 0.4148 - val_acc: 0.9128\n",
      "Epoch 86/100\n",
      "7344/7344 [==============================] - 2s 230us/step - loss: 0.0375 - acc: 0.9842 - val_loss: 0.2799 - val_acc: 0.9311\n",
      "Epoch 87/100\n",
      "7344/7344 [==============================] - 2s 228us/step - loss: 0.0394 - acc: 0.9860 - val_loss: 0.4307 - val_acc: 0.9201\n",
      "Epoch 88/100\n",
      "7344/7344 [==============================] - 2s 232us/step - loss: 0.0387 - acc: 0.9856 - val_loss: 0.7220 - val_acc: 0.8976\n",
      "Epoch 89/100\n",
      "7344/7344 [==============================] - 2s 239us/step - loss: 0.0380 - acc: 0.9846 - val_loss: 0.4765 - val_acc: 0.9293\n",
      "Epoch 90/100\n",
      "7344/7344 [==============================] - 2s 232us/step - loss: 0.0393 - acc: 0.9857 - val_loss: 0.4752 - val_acc: 0.9238\n",
      "Epoch 91/100\n",
      "7344/7344 [==============================] - 2s 237us/step - loss: 0.0435 - acc: 0.9843 - val_loss: 0.2795 - val_acc: 0.9396\n",
      "Epoch 92/100\n",
      "7344/7344 [==============================] - 2s 237us/step - loss: 0.0363 - acc: 0.9861 - val_loss: 0.4271 - val_acc: 0.9226\n",
      "Epoch 93/100\n",
      "7344/7344 [==============================] - 2s 228us/step - loss: 0.0419 - acc: 0.9845 - val_loss: 0.2603 - val_acc: 0.9427\n",
      "Epoch 94/100\n",
      "7344/7344 [==============================] - 2s 228us/step - loss: 0.0411 - acc: 0.9861 - val_loss: 0.4476 - val_acc: 0.9183\n",
      "Epoch 95/100\n",
      "7344/7344 [==============================] - 2s 229us/step - loss: 0.0466 - acc: 0.9819 - val_loss: 0.2675 - val_acc: 0.9409\n",
      "Epoch 96/100\n",
      "7344/7344 [==============================] - 2s 229us/step - loss: 0.0450 - acc: 0.9861 - val_loss: 0.3152 - val_acc: 0.9439\n",
      "Epoch 97/100\n",
      "7344/7344 [==============================] - 2s 229us/step - loss: 0.0379 - acc: 0.9853 - val_loss: 0.4387 - val_acc: 0.9280\n",
      "Epoch 98/100\n",
      "7344/7344 [==============================] - 2s 229us/step - loss: 0.0359 - acc: 0.9867 - val_loss: 0.8117 - val_acc: 0.8951\n",
      "Epoch 99/100\n",
      "7344/7344 [==============================] - 2s 229us/step - loss: 0.0390 - acc: 0.9854 - val_loss: 0.6606 - val_acc: 0.8939\n",
      "Epoch 100/100\n",
      "7344/7344 [==============================] - 2s 229us/step - loss: 0.0428 - acc: 0.9835 - val_loss: 0.4282 - val_acc: 0.9238\n"
     ]
    }
   ],
   "source": [
    "epochs = 100\n",
    "log = model.fit(x_train, y_train,\n",
    "                batch_size=64,\n",
    "                epochs=epochs,\n",
    "                validation_data=(x_test, y_test))"
   ]
  },
  {
   "cell_type": "markdown",
   "metadata": {},
   "source": [
    "### 绘制loss和accuracy"
   ]
  },
  {
   "cell_type": "code",
   "execution_count": 9,
   "metadata": {},
   "outputs": [
    {
     "data": {
      "image/png": "[encoded data removed]",
      "text/plain": [
       "<Figure size 432x288 with 1 Axes>"
      ]
     },
     "metadata": {
      "needs_background": "light"
     },
     "output_type": "display_data"
    }
   ],
   "source": [
    "import matplotlib.pyplot as plt\n",
    "\n",
    "%matplotlib inline\n",
    "\n",
    "plt.figure()\n",
    "plt.plot(log.history['loss'], label='train_loss')\n",
    "plt.plot(log.history['val_loss'], label='val_loss')\n",
    "plt.plot(log.history['acc'], label='acc')\n",
    "plt.plot(log.history['val_acc'], label='val_acc')\n",
    "plt.xlabel('Epochs')\n",
    "plt.xlim((0, epochs + 40))\n",
    "plt.legend(loc='upper right')\n",
    "plt.show()"
   ]
  }
 ],
 "metadata": {
  "kernelspec": {
   "display_name": "Python 3",
   "language": "python",
   "name": "python3"
  },
  "language_info": {
   "codemirror_mode": {
    "name": "ipython",
    "version": 3
   },
   "file_extension": ".py",
   "mimetype": "text/x-python",
   "name": "python",
   "nbconvert_exporter": "python",
   "pygments_lexer": "ipython3",
   "version": "3.6.9"
  },
  "pycharm": {
   "stem_cell": {
    "cell_type": "raw",
    "metadata": {
     "collapsed": false
    },
    "source": []
   }
  }
 },
 "nbformat": 4,
 "nbformat_minor": 4
}